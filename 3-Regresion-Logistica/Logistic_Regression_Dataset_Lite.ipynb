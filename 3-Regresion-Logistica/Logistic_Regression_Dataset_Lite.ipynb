{
  "nbformat": 4,
  "nbformat_minor": 0,
  "metadata": {
    "colab": {
      "name": "Logistic_Regression_Dataset_Lite.ipynb",
      "provenance": []
    },
    "kernelspec": {
      "name": "python3",
      "display_name": "Python 3"
    },
    "language_info": {
      "name": "python"
    }
  },
  "cells": [
    {
      "cell_type": "markdown",
      "metadata": {
        "id": "AKFCfm10solU"
      },
      "source": [
        "# Regresión logística usando Scikit Learn"
      ]
    },
    {
      "cell_type": "markdown",
      "metadata": {
        "id": "znGQL6y-szWy"
      },
      "source": [
        "## Importar liberías"
      ]
    },
    {
      "cell_type": "code",
      "metadata": {
        "id": "JOedL6iWl-fR"
      },
      "source": [
        "import numpy as np\n",
        "import matplotlib.pyplot as plt\n",
        "import seaborn as sns"
      ],
      "execution_count": null,
      "outputs": []
    },
    {
      "cell_type": "markdown",
      "metadata": {
        "id": "-K5hHfVws9Q5"
      },
      "source": [
        "## Cargar y explorar el set de datos"
      ]
    },
    {
      "cell_type": "code",
      "metadata": {
        "id": "OskCRguurEFg"
      },
      "source": [
        "from sklearn.datasets import load_digits\n",
        "digits = load_digits()"
      ],
      "execution_count": null,
      "outputs": []
    },
    {
      "cell_type": "code",
      "metadata": {
        "colab": {
          "base_uri": "https://localhost:8080/"
        },
        "id": "dP48UZNNsGp2",
        "outputId": "d77fe1a2-8311-4435-a146-3cbb3d34d560"
      },
      "source": [
        "digits"
      ],
      "execution_count": null,
      "outputs": [
        {
          "output_type": "execute_result",
          "data": {
            "text/plain": [
              "{'DESCR': \".. _digits_dataset:\\n\\nOptical recognition of handwritten digits dataset\\n--------------------------------------------------\\n\\n**Data Set Characteristics:**\\n\\n    :Number of Instances: 5620\\n    :Number of Attributes: 64\\n    :Attribute Information: 8x8 image of integer pixels in the range 0..16.\\n    :Missing Attribute Values: None\\n    :Creator: E. Alpaydin (alpaydin '@' boun.edu.tr)\\n    :Date: July; 1998\\n\\nThis is a copy of the test set of the UCI ML hand-written digits datasets\\nhttps://archive.ics.uci.edu/ml/datasets/Optical+Recognition+of+Handwritten+Digits\\n\\nThe data set contains images of hand-written digits: 10 classes where\\neach class refers to a digit.\\n\\nPreprocessing programs made available by NIST were used to extract\\nnormalized bitmaps of handwritten digits from a preprinted form. From a\\ntotal of 43 people, 30 contributed to the training set and different 13\\nto the test set. 32x32 bitmaps are divided into nonoverlapping blocks of\\n4x4 and the number of on pixels are counted in each block. This generates\\nan input matrix of 8x8 where each element is an integer in the range\\n0..16. This reduces dimensionality and gives invariance to small\\ndistortions.\\n\\nFor info on NIST preprocessing routines, see M. D. Garris, J. L. Blue, G.\\nT. Candela, D. L. Dimmick, J. Geist, P. J. Grother, S. A. Janet, and C.\\nL. Wilson, NIST Form-Based Handprint Recognition System, NISTIR 5469,\\n1994.\\n\\n.. topic:: References\\n\\n  - C. Kaynak (1995) Methods of Combining Multiple Classifiers and Their\\n    Applications to Handwritten Digit Recognition, MSc Thesis, Institute of\\n    Graduate Studies in Science and Engineering, Bogazici University.\\n  - E. Alpaydin, C. Kaynak (1998) Cascading Classifiers, Kybernetika.\\n  - Ken Tang and Ponnuthurai N. Suganthan and Xi Yao and A. Kai Qin.\\n    Linear dimensionalityreduction using relevance weighted LDA. School of\\n    Electrical and Electronic Engineering Nanyang Technological University.\\n    2005.\\n  - Claudio Gentile. A New Approximate Maximal Margin Classification\\n    Algorithm. NIPS. 2000.\",\n",
              " 'data': array([[ 0.,  0.,  5., ...,  0.,  0.,  0.],\n",
              "        [ 0.,  0.,  0., ..., 10.,  0.,  0.],\n",
              "        [ 0.,  0.,  0., ..., 16.,  9.,  0.],\n",
              "        ...,\n",
              "        [ 0.,  0.,  1., ...,  6.,  0.,  0.],\n",
              "        [ 0.,  0.,  2., ..., 12.,  0.,  0.],\n",
              "        [ 0.,  0., 10., ..., 12.,  1.,  0.]]),\n",
              " 'images': array([[[ 0.,  0.,  5., ...,  1.,  0.,  0.],\n",
              "         [ 0.,  0., 13., ..., 15.,  5.,  0.],\n",
              "         [ 0.,  3., 15., ..., 11.,  8.,  0.],\n",
              "         ...,\n",
              "         [ 0.,  4., 11., ..., 12.,  7.,  0.],\n",
              "         [ 0.,  2., 14., ..., 12.,  0.,  0.],\n",
              "         [ 0.,  0.,  6., ...,  0.,  0.,  0.]],\n",
              " \n",
              "        [[ 0.,  0.,  0., ...,  5.,  0.,  0.],\n",
              "         [ 0.,  0.,  0., ...,  9.,  0.,  0.],\n",
              "         [ 0.,  0.,  3., ...,  6.,  0.,  0.],\n",
              "         ...,\n",
              "         [ 0.,  0.,  1., ...,  6.,  0.,  0.],\n",
              "         [ 0.,  0.,  1., ...,  6.,  0.,  0.],\n",
              "         [ 0.,  0.,  0., ..., 10.,  0.,  0.]],\n",
              " \n",
              "        [[ 0.,  0.,  0., ..., 12.,  0.,  0.],\n",
              "         [ 0.,  0.,  3., ..., 14.,  0.,  0.],\n",
              "         [ 0.,  0.,  8., ..., 16.,  0.,  0.],\n",
              "         ...,\n",
              "         [ 0.,  9., 16., ...,  0.,  0.,  0.],\n",
              "         [ 0.,  3., 13., ..., 11.,  5.,  0.],\n",
              "         [ 0.,  0.,  0., ..., 16.,  9.,  0.]],\n",
              " \n",
              "        ...,\n",
              " \n",
              "        [[ 0.,  0.,  1., ...,  1.,  0.,  0.],\n",
              "         [ 0.,  0., 13., ...,  2.,  1.,  0.],\n",
              "         [ 0.,  0., 16., ..., 16.,  5.,  0.],\n",
              "         ...,\n",
              "         [ 0.,  0., 16., ..., 15.,  0.,  0.],\n",
              "         [ 0.,  0., 15., ..., 16.,  0.,  0.],\n",
              "         [ 0.,  0.,  2., ...,  6.,  0.,  0.]],\n",
              " \n",
              "        [[ 0.,  0.,  2., ...,  0.,  0.,  0.],\n",
              "         [ 0.,  0., 14., ..., 15.,  1.,  0.],\n",
              "         [ 0.,  4., 16., ..., 16.,  7.,  0.],\n",
              "         ...,\n",
              "         [ 0.,  0.,  0., ..., 16.,  2.,  0.],\n",
              "         [ 0.,  0.,  4., ..., 16.,  2.,  0.],\n",
              "         [ 0.,  0.,  5., ..., 12.,  0.,  0.]],\n",
              " \n",
              "        [[ 0.,  0., 10., ...,  1.,  0.,  0.],\n",
              "         [ 0.,  2., 16., ...,  1.,  0.,  0.],\n",
              "         [ 0.,  0., 15., ..., 15.,  0.,  0.],\n",
              "         ...,\n",
              "         [ 0.,  4., 16., ..., 16.,  6.,  0.],\n",
              "         [ 0.,  8., 16., ..., 16.,  8.,  0.],\n",
              "         [ 0.,  1.,  8., ..., 12.,  1.,  0.]]]),\n",
              " 'target': array([0, 1, 2, ..., 8, 9, 8]),\n",
              " 'target_names': array([0, 1, 2, 3, 4, 5, 6, 7, 8, 9])}"
            ]
          },
          "metadata": {
            "tags": []
          },
          "execution_count": 3
        }
      ]
    },
    {
      "cell_type": "code",
      "metadata": {
        "colab": {
          "base_uri": "https://localhost:8080/"
        },
        "id": "1xvyfSD_tnuP",
        "outputId": "801a2670-4cee-431f-d822-51fc61113d53"
      },
      "source": [
        "digits.data.shape"
      ],
      "execution_count": null,
      "outputs": [
        {
          "output_type": "execute_result",
          "data": {
            "text/plain": [
              "(1797, 64)"
            ]
          },
          "metadata": {
            "tags": []
          },
          "execution_count": 4
        }
      ]
    },
    {
      "cell_type": "code",
      "metadata": {
        "colab": {
          "base_uri": "https://localhost:8080/"
        },
        "id": "w__qnUfftq-h",
        "outputId": "824fffd8-f714-40ed-cdcb-2bfc2f1d0caf"
      },
      "source": [
        "digit_sample = digits.data[0]\n",
        "digit_sample"
      ],
      "execution_count": null,
      "outputs": [
        {
          "output_type": "execute_result",
          "data": {
            "text/plain": [
              "array([ 0.,  0.,  5., 13.,  9.,  1.,  0.,  0.,  0.,  0., 13., 15., 10.,\n",
              "       15.,  5.,  0.,  0.,  3., 15.,  2.,  0., 11.,  8.,  0.,  0.,  4.,\n",
              "       12.,  0.,  0.,  8.,  8.,  0.,  0.,  5.,  8.,  0.,  0.,  9.,  8.,\n",
              "        0.,  0.,  4., 11.,  0.,  1., 12.,  7.,  0.,  0.,  2., 14.,  5.,\n",
              "       10., 12.,  0.,  0.,  0.,  0.,  6., 13., 10.,  0.,  0.,  0.])"
            ]
          },
          "metadata": {
            "tags": []
          },
          "execution_count": 5
        }
      ]
    },
    {
      "cell_type": "markdown",
      "metadata": {
        "id": "IZBXP37tt843"
      },
      "source": [
        "Al ser un problema de aprendizaje supervisado, se cuenta con datos ya etiquetados a los que se quiere llegar como resultado."
      ]
    },
    {
      "cell_type": "code",
      "metadata": {
        "colab": {
          "base_uri": "https://localhost:8080/"
        },
        "id": "1zo6UiFDvK2s",
        "outputId": "1ca4d000-74d3-4460-ab75-b79e21293865"
      },
      "source": [
        "digits.target.shape"
      ],
      "execution_count": null,
      "outputs": [
        {
          "output_type": "execute_result",
          "data": {
            "text/plain": [
              "(1797,)"
            ]
          },
          "metadata": {
            "tags": []
          },
          "execution_count": 6
        }
      ]
    },
    {
      "cell_type": "markdown",
      "metadata": {
        "id": "P0naCiwzvoNS"
      },
      "source": [
        "El primer valor de los datos etiquetados corresponde a un 0"
      ]
    },
    {
      "cell_type": "code",
      "metadata": {
        "colab": {
          "base_uri": "https://localhost:8080/"
        },
        "id": "uYhbiMvFvTym",
        "outputId": "d7cbb9ab-4a3d-4d7d-ec6c-1ba84ee85f93"
      },
      "source": [
        "digits.target[0]"
      ],
      "execution_count": null,
      "outputs": [
        {
          "output_type": "execute_result",
          "data": {
            "text/plain": [
              "0"
            ]
          },
          "metadata": {
            "tags": []
          },
          "execution_count": 7
        }
      ]
    },
    {
      "cell_type": "markdown",
      "metadata": {
        "id": "xeE-yd2Ivc3V"
      },
      "source": [
        "## Graficar una imagen"
      ]
    },
    {
      "cell_type": "code",
      "metadata": {
        "colab": {
          "base_uri": "https://localhost:8080/"
        },
        "id": "JltYvtUUvxTg",
        "outputId": "6cf6826f-43aa-4ca2-8d31-a120a3b1e4b0"
      },
      "source": [
        "digit_reshaped = digit_sample.reshape(8,8)\n",
        "digit_reshaped"
      ],
      "execution_count": null,
      "outputs": [
        {
          "output_type": "execute_result",
          "data": {
            "text/plain": [
              "array([[ 0.,  0.,  5., 13.,  9.,  1.,  0.,  0.],\n",
              "       [ 0.,  0., 13., 15., 10., 15.,  5.,  0.],\n",
              "       [ 0.,  3., 15.,  2.,  0., 11.,  8.,  0.],\n",
              "       [ 0.,  4., 12.,  0.,  0.,  8.,  8.,  0.],\n",
              "       [ 0.,  5.,  8.,  0.,  0.,  9.,  8.,  0.],\n",
              "       [ 0.,  4., 11.,  0.,  1., 12.,  7.,  0.],\n",
              "       [ 0.,  2., 14.,  5., 10., 12.,  0.,  0.],\n",
              "       [ 0.,  0.,  6., 13., 10.,  0.,  0.,  0.]])"
            ]
          },
          "metadata": {
            "tags": []
          },
          "execution_count": 8
        }
      ]
    },
    {
      "cell_type": "code",
      "metadata": {
        "colab": {
          "base_uri": "https://localhost:8080/",
          "height": 282
        },
        "id": "fPpKjOyswVx1",
        "outputId": "2c4850db-5677-4876-95a8-bab2cc197cca"
      },
      "source": [
        "plt.imshow(digit_reshaped)"
      ],
      "execution_count": null,
      "outputs": [
        {
          "output_type": "execute_result",
          "data": {
            "text/plain": [
              "<matplotlib.image.AxesImage at 0x7ff4cb814290>"
            ]
          },
          "metadata": {
            "tags": []
          },
          "execution_count": 9
        },
        {
          "output_type": "display_data",
          "data": {
            "image/png": "[encoded data removed]",
            "text/plain": [
              "<Figure size 432x288 with 1 Axes>"
            ]
          },
          "metadata": {
            "tags": [],
            "needs_background": "light"
          }
        }
      ]
    },
    {
      "cell_type": "markdown",
      "metadata": {
        "id": "9X7Q_FERwa3m"
      },
      "source": [
        "## Graficar varias imágenes"
      ]
    },
    {
      "cell_type": "code",
      "metadata": {
        "colab": {
          "base_uri": "https://localhost:8080/"
        },
        "id": "8St2qq-vxqrR",
        "outputId": "69ca64fc-ee7f-4534-d680-8b8c4481acdc"
      },
      "source": [
        "numbers_sample = list(zip(digits.data[30:40], digits.target[30:40]))\n",
        "numbers_sample"
      ],
      "execution_count": null,
      "outputs": [
        {
          "output_type": "execute_result",
          "data": {
            "text/plain": [
              "[(array([ 0.,  0., 10., 14., 11.,  3.,  0.,  0.,  0.,  4., 16., 13.,  6.,\n",
              "         14.,  1.,  0.,  0.,  4., 16.,  2.,  0., 11.,  7.,  0.,  0.,  8.,\n",
              "         16.,  0.,  0., 10.,  5.,  0.,  0.,  8., 16.,  0.,  0., 14.,  4.,\n",
              "          0.,  0.,  8., 16.,  0.,  1., 16.,  1.,  0.,  0.,  4., 16.,  1.,\n",
              "         11., 15.,  0.,  0.,  0.,  0., 11., 16., 12.,  3.,  0.,  0.]), 0),\n",
              " (array([ 0.,  0.,  2., 13.,  8.,  0.,  0.,  0.,  0.,  0.,  6., 16., 16.,\n",
              "          6.,  0.,  0.,  0.,  0.,  5., 15., 13., 11.,  0.,  0.,  0.,  0.,\n",
              "          0.,  7., 16., 15.,  0.,  0.,  0.,  0.,  0.,  0.,  0., 14.,  3.,\n",
              "          0.,  0.,  0.,  0.,  0.,  0.,  7., 11.,  0.,  0.,  0.,  0.,  3.,\n",
              "          4.,  4., 16.,  2.,  0.,  0.,  2., 15., 13., 14., 13.,  2.]), 9),\n",
              " (array([ 0.,  2., 13., 16., 16., 16., 11.,  0.,  0.,  5., 16., 10.,  5.,\n",
              "          4.,  1.,  0.,  0.,  6., 16.,  7.,  3.,  0.,  0.,  0.,  0.,  9.,\n",
              "         16., 16., 16.,  6.,  0.,  0.,  0.,  3.,  8.,  4., 11., 15.,  0.,\n",
              "          0.,  0.,  0.,  0.,  1., 12., 15.,  0.,  0.,  0.,  0.,  4., 13.,\n",
              "         16.,  6.,  0.,  0.,  0.,  2., 16., 15.,  8.,  0.,  0.,  0.]), 5),\n",
              " (array([ 0.,  6., 13.,  5.,  8.,  8.,  1.,  0.,  0.,  8., 16., 16., 16.,\n",
              "         16.,  6.,  0.,  0.,  6., 16.,  9.,  6.,  4.,  0.,  0.,  0.,  6.,\n",
              "         16., 16., 15.,  5.,  0.,  0.,  0.,  0.,  4.,  5., 15., 12.,  0.,\n",
              "          0.,  0.,  0.,  0.,  3., 16.,  9.,  0.,  0.,  0.,  1.,  8., 13.,\n",
              "         15.,  3.,  0.,  0.,  0.,  4., 16., 15.,  3.,  0.,  0.,  0.]), 5),\n",
              " (array([ 0.,  0.,  0.,  5., 14.,  2.,  0.,  0.,  0.,  0.,  1., 13., 11.,\n",
              "          0.,  0.,  0.,  0.,  0.,  5., 16.,  2.,  0.,  0.,  0.,  0.,  0.,\n",
              "          6., 15.,  5.,  0.,  0.,  0.,  0.,  1., 15., 16., 15., 11.,  1.,\n",
              "          0.,  0.,  2., 13., 14.,  1., 12.,  9.,  0.,  0.,  0.,  4., 16.,\n",
              "          7., 13.,  9.,  0.,  0.,  0.,  0.,  5., 16., 15.,  3.,  0.]), 6),\n",
              " (array([ 0.,  3., 15.,  8.,  8.,  6.,  0.,  0.,  0.,  4., 16., 16., 16.,\n",
              "         13.,  2.,  0.,  0.,  3., 16.,  9.,  2.,  0.,  0.,  0.,  0.,  2.,\n",
              "         16., 16., 15.,  3.,  0.,  0.,  0.,  0.,  7.,  6., 12.,  9.,  0.,\n",
              "          0.,  0.,  0.,  0.,  1., 14., 10.,  0.,  0.,  0.,  0.,  5., 14.,\n",
              "         15.,  2.,  0.,  0.,  0.,  1., 15., 14.,  1.,  0.,  0.,  0.]), 5),\n",
              " (array([ 0.,  0.,  6., 14., 10.,  2.,  0.,  0.,  0.,  0., 15., 15., 13.,\n",
              "         15.,  3.,  0.,  0.,  2., 16., 10.,  0., 13.,  9.,  0.,  0.,  1.,\n",
              "         16.,  5.,  0., 12.,  5.,  0.,  0.,  0., 16.,  3.,  0., 13.,  6.,\n",
              "          0.,  0.,  1., 15.,  5.,  6., 13.,  1.,  0.,  0.,  0., 16., 11.,\n",
              "         14., 10.,  0.,  0.,  0.,  0.,  7., 16., 11.,  1.,  0.,  0.]), 0),\n",
              " (array([ 0.,  0., 13., 10.,  1.,  0.,  0.,  0.,  0.,  5., 16., 14.,  7.,\n",
              "          0.,  0.,  0.,  0.,  4., 16.,  8., 14.,  0.,  0.,  0.,  0.,  2.,\n",
              "         14., 16., 16.,  6.,  0.,  0.,  0.,  0.,  1.,  4.,  9., 13.,  1.,\n",
              "          0.,  0.,  0.,  0.,  0.,  0., 13.,  6.,  0.,  0.,  0.,  5.,  8.,\n",
              "          5.,  9., 14.,  0.,  0.,  0., 13., 13., 15., 16., 13.,  0.]), 9),\n",
              " (array([ 0.,  0.,  7.,  7., 13., 16.,  4.,  0.,  0.,  0., 13., 13.,  6.,\n",
              "         12.,  7.,  0.,  0.,  0., 10.,  4., 10., 11.,  1.,  0.,  0.,  0.,\n",
              "          8., 16., 10.,  0.,  0.,  0.,  0.,  3., 14., 16.,  0.,  0.,  0.,\n",
              "          0.,  0.,  8.,  8., 11.,  5.,  0.,  0.,  0.,  0.,  4., 10.,  9.,\n",
              "          8.,  0.,  0.,  0.,  0.,  1., 11., 16.,  6.,  0.,  0.,  0.]), 8),\n",
              " (array([ 0.,  1.,  9., 16., 13.,  7.,  0.,  0.,  0.,  7., 14.,  4., 10.,\n",
              "         12.,  0.,  0.,  0.,  6., 15.,  9., 16., 11.,  0.,  0.,  0.,  0.,\n",
              "          9., 11.,  7., 14.,  0.,  0.,  0.,  0.,  0.,  0.,  0., 15.,  2.,\n",
              "          0.,  0.,  0.,  0.,  0.,  0., 11.,  6.,  0.,  0.,  3., 13.,  8.,\n",
              "          5., 14.,  5.,  0.,  0.,  0.,  9., 14., 13., 10.,  1.,  0.]), 9)]"
            ]
          },
          "metadata": {
            "tags": []
          },
          "execution_count": 10
        }
      ]
    },
    {
      "cell_type": "code",
      "metadata": {
        "colab": {
          "base_uri": "https://localhost:8080/",
          "height": 87
        },
        "id": "SKVETyQKV8q6",
        "outputId": "92cab528-1905-42ac-ad36-81d503febe2a"
      },
      "source": [
        "plt.figure(figsize=(30, 30))\n",
        "\n",
        "for index, (image, label) in enumerate(numbers_sample):\n",
        "    digit_reshaped = image.reshape(8, 8)\n",
        "    plt.subplot(1, len(numbers_sample), index + 1)\n",
        "    plt.imshow(digit_reshaped)\n",
        "    plt.title(f'Label: {label}')"
      ],
      "execution_count": null,
      "outputs": [
        {
          "output_type": "display_data",
          "data": {
            "image/png": "[encoded data removed]",
            "text/plain": [
              "<Figure size 2160x2160 with 10 Axes>"
            ]
          },
          "metadata": {
            "tags": [],
            "needs_background": "light"
          }
        }
      ]
    },
    {
      "cell_type": "markdown",
      "metadata": {
        "id": "r0_eQPOjWWF4"
      },
      "source": [
        "## Fase de entrenamiento"
      ]
    },
    {
      "cell_type": "markdown",
      "metadata": {
        "id": "odKwjccDYRFQ"
      },
      "source": [
        "### 1. Dividir el set de datos para entrenamiento y pruebas"
      ]
    },
    {
      "cell_type": "code",
      "metadata": {
        "colab": {
          "base_uri": "https://localhost:8080/"
        },
        "id": "718fAcJms3Db",
        "outputId": "5c67a5c6-3630-47c0-85af-6b3ad5ca15a9"
      },
      "source": [
        "from sklearn.model_selection import train_test_split\n",
        "\n",
        "x_train, x_test, y_train, y_test = train_test_split(digits.data,\n",
        "                                                   digits.target,\n",
        "                                                   test_size=0.1,\n",
        "                                                   random_state=42)\n",
        "\n",
        "print('Length Train:', len(x_train))\n",
        "print('Length Test:', len(x_test))"
      ],
      "execution_count": null,
      "outputs": [
        {
          "output_type": "stream",
          "text": [
            "Length Train: 1617\n",
            "Length Test: 180\n"
          ],
          "name": "stdout"
        }
      ]
    },
    {
      "cell_type": "markdown",
      "metadata": {
        "id": "lA-ioEx5vKkc"
      },
      "source": [
        "### 2. Importar el modelo"
      ]
    },
    {
      "cell_type": "code",
      "metadata": {
        "id": "_JqOnOyOvnmV"
      },
      "source": [
        "from sklearn.linear_model import LogisticRegression"
      ],
      "execution_count": null,
      "outputs": []
    },
    {
      "cell_type": "markdown",
      "metadata": {
        "id": "rsuXUyH0v2zg"
      },
      "source": [
        "### 3. Crear la instancia del modelo\n",
        "\n",
        "Se crea el primer Pipeline."
      ]
    },
    {
      "cell_type": "code",
      "metadata": {
        "id": "bNRS3bxqwE1z"
      },
      "source": [
        "from sklearn.pipeline import make_pipeline\n",
        "from sklearn.preprocessing import StandardScaler\n",
        "\n",
        "pipe = make_pipeline(StandardScaler(), LogisticRegression())"
      ],
      "execution_count": null,
      "outputs": []
    },
    {
      "cell_type": "markdown",
      "metadata": {
        "id": "AIwsbcqYz2WZ"
      },
      "source": [
        "### 4. Entrenar al modelo\n",
        "\n",
        "Primero se estandarizan los datos y luego se entrena al modelo."
      ]
    },
    {
      "cell_type": "code",
      "metadata": {
        "colab": {
          "base_uri": "https://localhost:8080/"
        },
        "id": "ohAZuWFL0B31",
        "outputId": "0992e780-1a51-477e-8f49-c366a892f905"
      },
      "source": [
        "pipe.fit(x_train, y_train)"
      ],
      "execution_count": null,
      "outputs": [
        {
          "output_type": "execute_result",
          "data": {
            "text/plain": [
              "Pipeline(memory=None,\n",
              "         steps=[('standardscaler',\n",
              "                 StandardScaler(copy=True, with_mean=True, with_std=True)),\n",
              "                ('logisticregression',\n",
              "                 LogisticRegression(C=1.0, class_weight=None, dual=False,\n",
              "                                    fit_intercept=True, intercept_scaling=1,\n",
              "                                    l1_ratio=None, max_iter=100,\n",
              "                                    multi_class='auto', n_jobs=None,\n",
              "                                    penalty='l2', random_state=None,\n",
              "                                    solver='lbfgs', tol=0.0001, verbose=0,\n",
              "                                    warm_start=False))],\n",
              "         verbose=False)"
            ]
          },
          "metadata": {
            "tags": []
          },
          "execution_count": 15
        }
      ]
    },
    {
      "cell_type": "markdown",
      "metadata": {
        "id": "iJxIwHNQ0WSB"
      },
      "source": [
        "## Evaluar al modelo\n",
        "\n",
        "La regresión logística con SciKit Learn usa por defecto la precisión como métrica de evaluación del modelo. La precisión se define como:\n",
        "\n",
        "$$\\text{Precisión}=\\frac{\\text{Número de predicciones correctas}}{\\text{Número total de predicciones}}$$"
      ]
    },
    {
      "cell_type": "code",
      "metadata": {
        "colab": {
          "base_uri": "https://localhost:8080/"
        },
        "id": "HDYNjmx61Muo",
        "outputId": "d8244443-f4e6-4d74-b4e1-454ee96f6437"
      },
      "source": [
        "score = pipe.score(x_test, y_test)\n",
        "print(f'Score: {score} = {round(score * 100, 2)}% Aprox')"
      ],
      "execution_count": null,
      "outputs": [
        {
          "output_type": "stream",
          "text": [
            "Score: 0.9777777777777777 = 97.78% Aprox\n"
          ],
          "name": "stdout"
        }
      ]
    },
    {
      "cell_type": "markdown",
      "metadata": {
        "id": "lgG0-WDU1av7"
      },
      "source": [
        "## Hacer una predicción con el modelo"
      ]
    },
    {
      "cell_type": "code",
      "metadata": {
        "colab": {
          "base_uri": "https://localhost:8080/"
        },
        "id": "41X_9SbI1_m6",
        "outputId": "19eb554e-8dc6-4935-b373-84c8310d9be7"
      },
      "source": [
        "guinea_pig = x_test[0]\n",
        "pipe.predict(guinea_pig.reshape(1, -1))"
      ],
      "execution_count": null,
      "outputs": [
        {
          "output_type": "execute_result",
          "data": {
            "text/plain": [
              "array([6])"
            ]
          },
          "metadata": {
            "tags": []
          },
          "execution_count": 17
        }
      ]
    },
    {
      "cell_type": "markdown",
      "metadata": {
        "id": "DFAm4b1z2PPc"
      },
      "source": [
        "Ahora se va a evaluar si la predicción es correcta."
      ]
    },
    {
      "cell_type": "code",
      "metadata": {
        "colab": {
          "base_uri": "https://localhost:8080/",
          "height": 282
        },
        "id": "9jGVC0rH2XT4",
        "outputId": "18eb8ca1-c393-44c5-f8e9-799738158863"
      },
      "source": [
        "plt.imshow(guinea_pig.reshape(8, 8))"
      ],
      "execution_count": null,
      "outputs": [
        {
          "output_type": "execute_result",
          "data": {
            "text/plain": [
              "<matplotlib.image.AxesImage at 0x7ff4c1623150>"
            ]
          },
          "metadata": {
            "tags": []
          },
          "execution_count": 18
        },
        {
          "output_type": "display_data",
          "data": {
            "image/png": "[encoded data removed]",
            "text/plain": [
              "<Figure size 432x288 with 1 Axes>"
            ]
          },
          "metadata": {
            "tags": [],
            "needs_background": "light"
          }
        }
      ]
    },
    {
      "cell_type": "markdown",
      "metadata": {
        "id": "btgxmIDP2r3n"
      },
      "source": [
        "A continuación, se hacen todas las predicciones de manera global"
      ]
    },
    {
      "cell_type": "code",
      "metadata": {
        "colab": {
          "base_uri": "https://localhost:8080/"
        },
        "id": "aFkcNbWv2w-o",
        "outputId": "3ee06981-3899-4f58-de7c-e6481c1fe2aa"
      },
      "source": [
        "predictions = pipe.predict(x_test)\n",
        "predictions"
      ],
      "execution_count": null,
      "outputs": [
        {
          "output_type": "execute_result",
          "data": {
            "text/plain": [
              "array([6, 9, 3, 7, 2, 1, 5, 2, 5, 2, 1, 9, 4, 0, 4, 2, 3, 7, 8, 8, 4, 3,\n",
              "       9, 7, 5, 6, 3, 5, 6, 3, 4, 9, 1, 4, 4, 6, 9, 4, 7, 6, 6, 9, 1, 3,\n",
              "       6, 1, 3, 0, 6, 5, 5, 1, 3, 5, 6, 0, 9, 0, 0, 1, 0, 4, 5, 2, 4, 5,\n",
              "       7, 0, 7, 5, 9, 5, 5, 4, 7, 0, 4, 5, 5, 9, 9, 0, 2, 3, 8, 0, 6, 4,\n",
              "       4, 9, 1, 2, 8, 3, 5, 2, 9, 0, 4, 4, 4, 3, 5, 3, 1, 3, 5, 9, 4, 2,\n",
              "       7, 7, 4, 4, 1, 9, 2, 7, 8, 7, 2, 6, 9, 4, 0, 7, 2, 7, 5, 8, 7, 5,\n",
              "       7, 9, 0, 6, 6, 4, 2, 8, 0, 9, 4, 6, 9, 9, 6, 9, 0, 5, 5, 6, 6, 0,\n",
              "       6, 4, 3, 9, 3, 8, 7, 2, 9, 0, 4, 5, 3, 6, 5, 9, 9, 8, 4, 2, 1, 3,\n",
              "       7, 7, 2, 2])"
            ]
          },
          "metadata": {
            "tags": []
          },
          "execution_count": 19
        }
      ]
    },
    {
      "cell_type": "markdown",
      "metadata": {
        "id": "TfvhL0oYcEK9"
      },
      "source": [
        "## Crear y graficar una matriz de confusión\n"
      ]
    },
    {
      "cell_type": "code",
      "metadata": {
        "colab": {
          "base_uri": "https://localhost:8080/"
        },
        "id": "OqwS1w0rcoO1",
        "outputId": "0a7a335a-10f4-4110-bf75-256270e82233"
      },
      "source": [
        "from sklearn import metrics\n",
        "\n",
        "cm = metrics.confusion_matrix(y_test, predictions)\n",
        "cm"
      ],
      "execution_count": null,
      "outputs": [
        {
          "output_type": "execute_result",
          "data": {
            "text/plain": [
              "array([[17,  0,  0,  0,  0,  0,  0,  0,  0,  0],\n",
              "       [ 0, 11,  0,  0,  0,  0,  0,  0,  0,  0],\n",
              "       [ 0,  0, 17,  0,  0,  0,  0,  0,  0,  0],\n",
              "       [ 0,  0,  0, 16,  0,  1,  0,  0,  0,  0],\n",
              "       [ 0,  0,  0,  0, 25,  0,  0,  0,  0,  0],\n",
              "       [ 0,  0,  0,  0,  0, 22,  0,  0,  0,  0],\n",
              "       [ 0,  0,  0,  0,  0,  0, 19,  0,  0,  0],\n",
              "       [ 0,  0,  0,  0,  0,  0,  0, 18,  0,  1],\n",
              "       [ 0,  0,  0,  0,  0,  0,  0,  0,  8,  0],\n",
              "       [ 0,  0,  0,  1,  0,  0,  0,  0,  1, 23]])"
            ]
          },
          "metadata": {
            "tags": []
          },
          "execution_count": 20
        }
      ]
    },
    {
      "cell_type": "code",
      "metadata": {
        "colab": {
          "base_uri": "https://localhost:8080/",
          "height": 547
        },
        "id": "xBLd5Hk5dIM8",
        "outputId": "46819436-1a4b-476a-f2d0-ddfa3ed94aa0"
      },
      "source": [
        "plt.figure(figsize=(9, 9))\n",
        "sns.heatmap(cm, annot=True, linewidths=0.5,\n",
        "            square=True, cmap='Blues_r')\n",
        "\n",
        "plt.title(f'Puntaje de precisión {score}', fontsize=15)\n",
        "plt.xlabel('Valor de predición')\n",
        "plt.ylabel('Valor actual')"
      ],
      "execution_count": null,
      "outputs": [
        {
          "output_type": "execute_result",
          "data": {
            "text/plain": [
              "Text(60.0, 0.5, 'Valor actual')"
            ]
          },
          "metadata": {
            "tags": []
          },
          "execution_count": 22
        },
        {
          "output_type": "display_data",
          "data": {
            "image/png": "[encoded data removed]",
            "text/plain": [
              "<Figure size 648x648 with 2 Axes>"
            ]
          },
          "metadata": {
            "tags": [],
            "needs_background": "light"
          }
        }
      ]
    },
    {
      "cell_type": "markdown",
      "metadata": {
        "id": "k4V7v9C0eWoe"
      },
      "source": [
        "La forma de leer esto es la siguiente:\n",
        "\n",
        "- Los valores que estan en la diagonal son la cantidad de predicciones correctas.\n",
        "- El cero indica que la predición en ese caso fue acertada.\n",
        "- El uno indica que la predición en ese caso fue incorrecta y en que lugar fallo."
      ]
    }
  ]
}